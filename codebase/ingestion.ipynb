{
 "cells": [
  {
   "cell_type": "code",
   "execution_count": 0,
   "metadata": {
    "application/vnd.databricks.v1+cell": {
     "cellMetadata": {
      "byteLimit": 2048000,
      "rowLimit": 10000
     },
     "inputWidgets": {},
     "nuid": "ab8b12a1-7b53-4d6c-b734-686604f53201",
     "showTitle": false,
     "tableResultSettingsMap": {},
     "title": ""
    }
   },
   "outputs": [],
   "source": [
    "import requests\n",
    "import pandas as pd"
   ]
  },
  {
   "cell_type": "code",
   "execution_count": 0,
   "metadata": {
    "application/vnd.databricks.v1+cell": {
     "cellMetadata": {
      "byteLimit": 2048000,
      "rowLimit": 10000
     },
     "inputWidgets": {},
     "nuid": "1cdeae11-b3af-4e95-a08a-fbe97a674447",
     "showTitle": false,
     "tableResultSettingsMap": {},
     "title": ""
    }
   },
   "outputs": [],
   "source": [
    "dbutils.widgets.dropdown(\"git_owner\", \"logeshrajan\", [\"logeshrajan\"])\n",
    "dbutils.widgets.dropdown(\"git_repo_name\", \"Adventureworks-data-engineering\", [\"Adventureworks-data-engineering\"])\n",
    "dbutils.widgets.text(\"source_folder_path\", \"data\")\n",
    "\n",
    "owner = dbutils.widgets.get(\"git_owner\")\n",
    "repo = dbutils.widgets.get(\"git_repo_name\")\n",
    "folder_path = dbutils.widgets.get(\"source_folder_path\")"
   ]
  },
  {
   "cell_type": "code",
   "execution_count": 0,
   "metadata": {
    "application/vnd.databricks.v1+cell": {
     "cellMetadata": {
      "byteLimit": 2048000,
      "rowLimit": 10000
     },
     "inputWidgets": {},
     "nuid": "2095dd07-c5e4-4fbb-857a-919a6c196622",
     "showTitle": false,
     "tableResultSettingsMap": {},
     "title": ""
    }
   },
   "outputs": [],
   "source": [
    "def list_github_folder_files(owner, repo, folder_path, branch=\"main\"):\n",
    "    url = f\"https://api.github.com/repos/{owner}/{repo}/contents/{folder_path}?ref=main\"\n",
    "    response = requests.get(url)\n",
    "    if response.status_code == 200:\n",
    "        obj_files = response.json()\n",
    "        files = [{'file_name': file[\"name\"].split('.')[0].replace('AdventureWorks_','').lower()\n",
    "                  , 'source_url': file[\"download_url\"]}\n",
    "                 for file in obj_files if file[\"type\"] == \"file\"]\n",
    "        print('Total no of files: ', len(files))\n",
    "        return files\n",
    "    else:\n",
    "        print(f\"Failed to fetch files: {response.status_code} - {response.text}\")"
   ]
  },
  {
   "cell_type": "code",
   "execution_count": 0,
   "metadata": {
    "application/vnd.databricks.v1+cell": {
     "cellMetadata": {
      "byteLimit": 2048000,
      "rowLimit": 10000
     },
     "inputWidgets": {},
     "nuid": "9b376e02-c418-4801-b436-3a240fd2fe71",
     "showTitle": false,
     "tableResultSettingsMap": {},
     "title": ""
    }
   },
   "outputs": [],
   "source": [
    "def ingest_from_github(file_details):\n",
    "    try:\n",
    "        # read files from github\n",
    "        pd_df = pd.read_csv(file_details[\"source_url\"], header=0)\n",
    "        df = spark.createDataFrame(pd_df)\n",
    "        # write df into adventureworks catalog\n",
    "        df.write.mode(\"overwrite\").saveAsTable(f\"adventureworks.raw.{file_details['file_name']}\")\n",
    "    except Exception as e:\n",
    "        print(f\"Error: {e}\")\n"
   ]
  },
  {
   "cell_type": "code",
   "execution_count": 0,
   "metadata": {
    "application/vnd.databricks.v1+cell": {
     "cellMetadata": {
      "byteLimit": 2048000,
      "rowLimit": 10000
     },
     "inputWidgets": {},
     "nuid": "20714a79-5b11-45c9-8bed-3370f212e010",
     "showTitle": false,
     "tableResultSettingsMap": {},
     "title": ""
    }
   },
   "outputs": [],
   "source": [
    "file_list_urls = list_github_folder_files(owner, repo, folder_path, branch)\n",
    "for file_detail in file_list_urls:\n",
    "    print(f\"Ingesting file: {file_detail}\")\n",
    "    ingest_from_github(file_detail)\n",
    "    print(f\"Ingestion completed for {file_detail['file_name']}\")\n"
   ]
  },
  {
   "cell_type": "code",
   "execution_count": 0,
   "metadata": {
    "application/vnd.databricks.v1+cell": {
     "cellMetadata": {
      "byteLimit": 2048000,
      "rowLimit": 10000
     },
     "inputWidgets": {},
     "nuid": "487d896d-8936-487f-a72b-db0d478de371",
     "showTitle": false,
     "tableResultSettingsMap": {},
     "title": ""
    },
    "jupyter": {
     "source_hidden": true
    }
   },
   "outputs": [],
   "source": [
    "# # from pyspark import SparkFiles\n",
    "# # url_github = 'https://raw.githubusercontent.com/logeshrajan/Adventureworks-data-engineering/refs/heads/main/data/AdventureWorks_Calendar.csv'\n",
    "# # spark.sparkContext.addFile(url_github)\n",
    "# # df = spark.read.csv(SparkFiles.get(\"AdventureWorks_Calendar.csv\"), inferSchema=True, header=True)\n"
   ]
  }
 ],
 "metadata": {
  "application/vnd.databricks.v1+notebook": {
   "computePreferences": null,
   "dashboards": [],
   "environmentMetadata": {
    "base_environment": "",
    "environment_version": "3"
   },
   "inputWidgetPreferences": null,
   "language": "python",
   "notebookMetadata": {
    "pythonIndentUnit": 4
   },
   "notebookName": "ingestion",
   "widgets": {
    "git_owner": {
     "currentValue": "logeshrajan",
     "nuid": "ea27b599-a6ed-4af5-9bf2-00d14bb22a83",
     "typedWidgetInfo": {
      "autoCreated": false,
      "defaultValue": "logeshrajan",
      "label": null,
      "name": "git_owner",
      "options": {
       "widgetDisplayType": "Dropdown",
       "choices": [
        "logeshrajan"
       ],
       "fixedDomain": true,
       "multiselect": false
      },
      "parameterDataType": "String"
     },
     "widgetInfo": {
      "widgetType": "dropdown",
      "defaultValue": "logeshrajan",
      "label": null,
      "name": "git_owner",
      "options": {
       "widgetType": "dropdown",
       "autoCreated": null,
       "choices": [
        "logeshrajan"
       ]
      }
     }
    },
    "git_repo_name": {
     "currentValue": "Adventureworks-data-engineering",
     "nuid": "514e4e75-ac51-446f-b874-fecb58c2b425",
     "typedWidgetInfo": {
      "autoCreated": false,
      "defaultValue": "Adventureworks-data-engineering",
      "label": null,
      "name": "git_repo_name",
      "options": {
       "widgetDisplayType": "Dropdown",
       "choices": [
        "Adventureworks-data-engineering"
       ],
       "fixedDomain": true,
       "multiselect": false
      },
      "parameterDataType": "String"
     },
     "widgetInfo": {
      "widgetType": "dropdown",
      "defaultValue": "Adventureworks-data-engineering",
      "label": null,
      "name": "git_repo_name",
      "options": {
       "widgetType": "dropdown",
       "autoCreated": null,
       "choices": [
        "Adventureworks-data-engineering"
       ]
      }
     }
    },
    "source_folder_path": {
     "currentValue": "data",
     "nuid": "24b4b09b-d07b-4c87-bb18-278b4a6e018d",
     "typedWidgetInfo": {
      "autoCreated": false,
      "defaultValue": "data",
      "label": null,
      "name": "source_folder_path",
      "options": {
       "widgetDisplayType": "Text",
       "validationRegex": null
      },
      "parameterDataType": "String"
     },
     "widgetInfo": {
      "widgetType": "text",
      "defaultValue": "data",
      "label": null,
      "name": "source_folder_path",
      "options": {
       "widgetType": "text",
       "autoCreated": null,
       "validationRegex": null
      }
     }
    }
   }
  },
  "language_info": {
   "name": "python"
  }
 },
 "nbformat": 4,
 "nbformat_minor": 0
}
